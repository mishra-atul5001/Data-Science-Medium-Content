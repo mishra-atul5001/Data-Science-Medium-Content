{
 "cells": [
  {
   "cell_type": "markdown",
   "id": "expensive-publicity",
   "metadata": {},
   "source": [
    "## Covid 19 Kaggle Competition  \n",
    "- Link: [Kaggle Competition Link](https://www.kaggle.com/c/learnplatform-covid19-impact-on-digital-learning/overview)  \n",
    "- Team:  \n",
    "  - Animesh Bagchi  \n",
    "  - Atul Mishra"
   ]
  },
  {
   "cell_type": "code",
   "execution_count": null,
   "id": "automated-belly",
   "metadata": {},
   "outputs": [],
   "source": []
  }
 ],
 "metadata": {
  "kernelspec": {
   "display_name": "Python 3",
   "language": "python",
   "name": "python3"
  },
  "language_info": {
   "codemirror_mode": {
    "name": "ipython",
    "version": 3
   },
   "file_extension": ".py",
   "mimetype": "text/x-python",
   "name": "python",
   "nbconvert_exporter": "python",
   "pygments_lexer": "ipython3",
   "version": "3.7.9"
  }
 },
 "nbformat": 4,
 "nbformat_minor": 5
}
