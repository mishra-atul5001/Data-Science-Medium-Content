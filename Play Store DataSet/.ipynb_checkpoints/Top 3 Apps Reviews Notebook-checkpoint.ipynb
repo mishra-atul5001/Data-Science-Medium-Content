{
 "cells": [
  {
   "cell_type": "markdown",
   "metadata": {},
   "source": [
    "Top Apps finalised which also have reviews:  \n",
    "- AMAZON SHOPPING  \n",
    "- GMAIL  \n",
    "- COOKING FEVER  \n",
    "- Horoscopes – Daily Zodiac Horoscope and Astrology  \n",
    "- Diary with lock  \n",
    "- APUS Launcher - Theme, Wallpaper, Hide Apps  \n",
    "- CM Launcher 3D - Theme, Wallpapers, Efficient  \n",
    "- Cache Cleaner-DU Speed Booster (booster & cleaner)  \n",
    "- Clash Royale  \n",
    "- Candy Crush Saga  \n",
    "- Hay Day  "
   ]
  },
  {
   "cell_type": "code",
   "execution_count": 1,
   "metadata": {},
   "outputs": [],
   "source": [
    "import re,os\n",
    "import numpy as np\n",
    "import pandas as pd\n",
    "import seaborn as sns\n",
    "from sklearn import svm\n",
    "import matplotlib.pyplot as plt\n",
    "from nltk.corpus import stopwords\n",
    "from sklearn.metrics import accuracy_score\n",
    "from nltk.stem import WordNetLemmatizer\n",
    "from sklearn.feature_extraction.text import CountVectorizer\n",
    "from sklearn.linear_model import LogisticRegression\n",
    "from sklearn.model_selection import train_test_split"
   ]
  },
  {
   "cell_type": "code",
   "execution_count": 2,
   "metadata": {},
   "outputs": [
    {
     "data": {
      "text/html": [
       "<div>\n",
       "<style scoped>\n",
       "    .dataframe tbody tr th:only-of-type {\n",
       "        vertical-align: middle;\n",
       "    }\n",
       "\n",
       "    .dataframe tbody tr th {\n",
       "        vertical-align: top;\n",
       "    }\n",
       "\n",
       "    .dataframe thead th {\n",
       "        text-align: right;\n",
       "    }\n",
       "</style>\n",
       "<table border=\"1\" class=\"dataframe\">\n",
       "  <thead>\n",
       "    <tr style=\"text-align: right;\">\n",
       "      <th></th>\n",
       "      <th>App</th>\n",
       "      <th>Translated_Review</th>\n",
       "      <th>Sentiment</th>\n",
       "      <th>Sentiment_Polarity</th>\n",
       "      <th>Sentiment_Subjectivity</th>\n",
       "    </tr>\n",
       "  </thead>\n",
       "  <tbody>\n",
       "    <tr>\n",
       "      <th>0</th>\n",
       "      <td>10 Best Foods for You</td>\n",
       "      <td>I like eat delicious food. That's I'm cooking ...</td>\n",
       "      <td>Positive</td>\n",
       "      <td>1.00</td>\n",
       "      <td>0.533333</td>\n",
       "    </tr>\n",
       "    <tr>\n",
       "      <th>1</th>\n",
       "      <td>10 Best Foods for You</td>\n",
       "      <td>This help eating healthy exercise regular basis</td>\n",
       "      <td>Positive</td>\n",
       "      <td>0.25</td>\n",
       "      <td>0.288462</td>\n",
       "    </tr>\n",
       "    <tr>\n",
       "      <th>2</th>\n",
       "      <td>10 Best Foods for You</td>\n",
       "      <td>NaN</td>\n",
       "      <td>NaN</td>\n",
       "      <td>NaN</td>\n",
       "      <td>NaN</td>\n",
       "    </tr>\n",
       "    <tr>\n",
       "      <th>3</th>\n",
       "      <td>10 Best Foods for You</td>\n",
       "      <td>Works great especially going grocery store</td>\n",
       "      <td>Positive</td>\n",
       "      <td>0.40</td>\n",
       "      <td>0.875000</td>\n",
       "    </tr>\n",
       "    <tr>\n",
       "      <th>4</th>\n",
       "      <td>10 Best Foods for You</td>\n",
       "      <td>Best idea us</td>\n",
       "      <td>Positive</td>\n",
       "      <td>1.00</td>\n",
       "      <td>0.300000</td>\n",
       "    </tr>\n",
       "  </tbody>\n",
       "</table>\n",
       "</div>"
      ],
      "text/plain": [
       "                     App                                  Translated_Review  \\\n",
       "0  10 Best Foods for You  I like eat delicious food. That's I'm cooking ...   \n",
       "1  10 Best Foods for You    This help eating healthy exercise regular basis   \n",
       "2  10 Best Foods for You                                                NaN   \n",
       "3  10 Best Foods for You         Works great especially going grocery store   \n",
       "4  10 Best Foods for You                                       Best idea us   \n",
       "\n",
       "  Sentiment  Sentiment_Polarity  Sentiment_Subjectivity  \n",
       "0  Positive                1.00                0.533333  \n",
       "1  Positive                0.25                0.288462  \n",
       "2       NaN                 NaN                     NaN  \n",
       "3  Positive                0.40                0.875000  \n",
       "4  Positive                1.00                0.300000  "
      ]
     },
     "execution_count": 2,
     "metadata": {},
     "output_type": "execute_result"
    }
   ],
   "source": [
    "reviews_data = pd.read_csv('googleplaystore_user_reviews.csv')\n",
    "apps_to_look_for = ['Amazon Shopping','Gmail','Cooking Fever','Horoscopes – Daily Zodiac Horoscope and Astrology',\n",
    "                   'Diary with lock','APUS Launcher - Theme, Wallpaper, Hide Apps','CM Launcher 3D - Theme, Wallpapers, Efficient',\n",
    "                    'Cache Cleaner-DU Speed Booster (booster & cleaner)','Clash Royale','Candy Crush Saga','Hay Day']\n",
    "reviews_data.head()"
   ]
  },
  {
   "cell_type": "code",
   "execution_count": 3,
   "metadata": {},
   "outputs": [],
   "source": [
    "# Creating a Function to Fetch reviews and append in one dataframe!\n",
    "def fetch_reviews_df_apps(df,list_of_apps):\n",
    "    final_df = pd.DataFrame(columns= df.columns)\n",
    "    for i in list_of_apps:\n",
    "        if i in df.App.get_values():\n",
    "            sub_df = df[df.App == i].reset_index(drop=True)\n",
    "        else:\n",
    "            pass\n",
    "        # Merging/Concatenating DF's\n",
    "        final_df = pd.concat([final_df,sub_df])\n",
    "    # Dropping the NA values rows\n",
    "    final_df.dropna(axis='rows',inplace=True)\n",
    "    return final_df.reset_index(drop=True)"
   ]
  },
  {
   "cell_type": "code",
   "execution_count": 4,
   "metadata": {
    "scrolled": true
   },
   "outputs": [
    {
     "data": {
      "text/plain": [
       "Candy Crush Saga                                      240\n",
       "Clash Royale                                          165\n",
       "Cooking Fever                                         135\n",
       "Diary with lock                                        99\n",
       "Gmail                                                  64\n",
       "Hay Day                                                61\n",
       "Amazon Shopping                                        45\n",
       "Horoscopes – Daily Zodiac Horoscope and Astrology      35\n",
       "APUS Launcher - Theme, Wallpaper, Hide Apps            31\n",
       "Cache Cleaner-DU Speed Booster (booster & cleaner)     26\n",
       "CM Launcher 3D - Theme, Wallpapers, Efficient          18\n",
       "Name: App, dtype: int64"
      ]
     },
     "execution_count": 4,
     "metadata": {},
     "output_type": "execute_result"
    }
   ],
   "source": [
    "prepared_reviews_df = fetch_reviews_df_apps(reviews_data,apps_to_look_for)\n",
    "prepared_reviews_df.App.value_counts()"
   ]
  },
  {
   "cell_type": "code",
   "execution_count": 5,
   "metadata": {},
   "outputs": [
    {
     "data": {
      "text/html": [
       "<div>\n",
       "<style scoped>\n",
       "    .dataframe tbody tr th:only-of-type {\n",
       "        vertical-align: middle;\n",
       "    }\n",
       "\n",
       "    .dataframe tbody tr th {\n",
       "        vertical-align: top;\n",
       "    }\n",
       "\n",
       "    .dataframe thead th {\n",
       "        text-align: right;\n",
       "    }\n",
       "</style>\n",
       "<table border=\"1\" class=\"dataframe\">\n",
       "  <thead>\n",
       "    <tr style=\"text-align: right;\">\n",
       "      <th></th>\n",
       "      <th>App</th>\n",
       "      <th>Translated_Review</th>\n",
       "      <th>Sentiment</th>\n",
       "      <th>Sentiment_Polarity</th>\n",
       "      <th>Sentiment_Subjectivity</th>\n",
       "    </tr>\n",
       "  </thead>\n",
       "  <tbody>\n",
       "    <tr>\n",
       "      <th>0</th>\n",
       "      <td>Amazon Shopping</td>\n",
       "      <td>Terrible change way switch wishlists. When scr...</td>\n",
       "      <td>Negative</td>\n",
       "      <td>-0.166667</td>\n",
       "      <td>0.700000</td>\n",
       "    </tr>\n",
       "    <tr>\n",
       "      <th>1</th>\n",
       "      <td>Amazon Shopping</td>\n",
       "      <td>Completely useless. They changed triple price,...</td>\n",
       "      <td>Negative</td>\n",
       "      <td>-0.300000</td>\n",
       "      <td>0.600000</td>\n",
       "    </tr>\n",
       "    <tr>\n",
       "      <th>2</th>\n",
       "      <td>Amazon Shopping</td>\n",
       "      <td>Hey, Jeff Bezos, employees living cars feeling...</td>\n",
       "      <td>Positive</td>\n",
       "      <td>0.100000</td>\n",
       "      <td>0.657778</td>\n",
       "    </tr>\n",
       "    <tr>\n",
       "      <th>3</th>\n",
       "      <td>Amazon Shopping</td>\n",
       "      <td>Good app, keeps supposed to. Error messages do...</td>\n",
       "      <td>Positive</td>\n",
       "      <td>0.875000</td>\n",
       "      <td>0.600000</td>\n",
       "    </tr>\n",
       "    <tr>\n",
       "      <th>4</th>\n",
       "      <td>Amazon Shopping</td>\n",
       "      <td>This actually looking dogs error messages unde...</td>\n",
       "      <td>Neutral</td>\n",
       "      <td>0.000000</td>\n",
       "      <td>0.100000</td>\n",
       "    </tr>\n",
       "  </tbody>\n",
       "</table>\n",
       "</div>"
      ],
      "text/plain": [
       "               App                                  Translated_Review  \\\n",
       "0  Amazon Shopping  Terrible change way switch wishlists. When scr...   \n",
       "1  Amazon Shopping  Completely useless. They changed triple price,...   \n",
       "2  Amazon Shopping  Hey, Jeff Bezos, employees living cars feeling...   \n",
       "3  Amazon Shopping  Good app, keeps supposed to. Error messages do...   \n",
       "4  Amazon Shopping  This actually looking dogs error messages unde...   \n",
       "\n",
       "  Sentiment  Sentiment_Polarity  Sentiment_Subjectivity  \n",
       "0  Negative           -0.166667                0.700000  \n",
       "1  Negative           -0.300000                0.600000  \n",
       "2  Positive            0.100000                0.657778  \n",
       "3  Positive            0.875000                0.600000  \n",
       "4   Neutral            0.000000                0.100000  "
      ]
     },
     "execution_count": 5,
     "metadata": {},
     "output_type": "execute_result"
    }
   ],
   "source": [
    "prepared_reviews_df.head()"
   ]
  },
  {
   "cell_type": "code",
   "execution_count": 6,
   "metadata": {},
   "outputs": [
    {
     "data": {
      "text/html": [
       "<div>\n",
       "<style scoped>\n",
       "    .dataframe tbody tr th:only-of-type {\n",
       "        vertical-align: middle;\n",
       "    }\n",
       "\n",
       "    .dataframe tbody tr th {\n",
       "        vertical-align: top;\n",
       "    }\n",
       "\n",
       "    .dataframe thead th {\n",
       "        text-align: right;\n",
       "    }\n",
       "</style>\n",
       "<table border=\"1\" class=\"dataframe\">\n",
       "  <thead>\n",
       "    <tr style=\"text-align: right;\">\n",
       "      <th></th>\n",
       "      <th>App</th>\n",
       "      <th>Translated_Review</th>\n",
       "      <th>Sentiment</th>\n",
       "      <th>Sentiment_Polarity</th>\n",
       "      <th>Sentiment_Subjectivity</th>\n",
       "    </tr>\n",
       "  </thead>\n",
       "  <tbody>\n",
       "    <tr>\n",
       "      <th>0</th>\n",
       "      <td>Amazon Shopping</td>\n",
       "      <td>Terrible change way switch wishlists. When scr...</td>\n",
       "      <td>0</td>\n",
       "      <td>-0.166667</td>\n",
       "      <td>0.700000</td>\n",
       "    </tr>\n",
       "    <tr>\n",
       "      <th>1</th>\n",
       "      <td>Amazon Shopping</td>\n",
       "      <td>Completely useless. They changed triple price,...</td>\n",
       "      <td>0</td>\n",
       "      <td>-0.300000</td>\n",
       "      <td>0.600000</td>\n",
       "    </tr>\n",
       "    <tr>\n",
       "      <th>2</th>\n",
       "      <td>Amazon Shopping</td>\n",
       "      <td>Hey, Jeff Bezos, employees living cars feeling...</td>\n",
       "      <td>1</td>\n",
       "      <td>0.100000</td>\n",
       "      <td>0.657778</td>\n",
       "    </tr>\n",
       "    <tr>\n",
       "      <th>3</th>\n",
       "      <td>Amazon Shopping</td>\n",
       "      <td>Good app, keeps supposed to. Error messages do...</td>\n",
       "      <td>1</td>\n",
       "      <td>0.875000</td>\n",
       "      <td>0.600000</td>\n",
       "    </tr>\n",
       "    <tr>\n",
       "      <th>4</th>\n",
       "      <td>Amazon Shopping</td>\n",
       "      <td>This actually looking dogs error messages unde...</td>\n",
       "      <td>2</td>\n",
       "      <td>0.000000</td>\n",
       "      <td>0.100000</td>\n",
       "    </tr>\n",
       "    <tr>\n",
       "      <th>5</th>\n",
       "      <td>Amazon Shopping</td>\n",
       "      <td>Amazon stretched thin? The slow hell. Click it...</td>\n",
       "      <td>0</td>\n",
       "      <td>-0.100000</td>\n",
       "      <td>0.475000</td>\n",
       "    </tr>\n",
       "    <tr>\n",
       "      <th>6</th>\n",
       "      <td>Amazon Shopping</td>\n",
       "      <td>Once unnecessary permissions disabled, mostly ...</td>\n",
       "      <td>0</td>\n",
       "      <td>-0.180000</td>\n",
       "      <td>0.600000</td>\n",
       "    </tr>\n",
       "    <tr>\n",
       "      <th>7</th>\n",
       "      <td>Amazon Shopping</td>\n",
       "      <td>Always slow painful use, I feel back days dial...</td>\n",
       "      <td>2</td>\n",
       "      <td>0.000000</td>\n",
       "      <td>0.512500</td>\n",
       "    </tr>\n",
       "    <tr>\n",
       "      <th>8</th>\n",
       "      <td>Amazon Shopping</td>\n",
       "      <td>Why Apple's supports long press shortcuts not?...</td>\n",
       "      <td>1</td>\n",
       "      <td>0.008333</td>\n",
       "      <td>0.533333</td>\n",
       "    </tr>\n",
       "    <tr>\n",
       "      <th>9</th>\n",
       "      <td>Amazon Shopping</td>\n",
       "      <td>The home page sloppy otherwise connects many A...</td>\n",
       "      <td>0</td>\n",
       "      <td>-0.013889</td>\n",
       "      <td>0.666667</td>\n",
       "    </tr>\n",
       "  </tbody>\n",
       "</table>\n",
       "</div>"
      ],
      "text/plain": [
       "               App                                  Translated_Review  \\\n",
       "0  Amazon Shopping  Terrible change way switch wishlists. When scr...   \n",
       "1  Amazon Shopping  Completely useless. They changed triple price,...   \n",
       "2  Amazon Shopping  Hey, Jeff Bezos, employees living cars feeling...   \n",
       "3  Amazon Shopping  Good app, keeps supposed to. Error messages do...   \n",
       "4  Amazon Shopping  This actually looking dogs error messages unde...   \n",
       "5  Amazon Shopping  Amazon stretched thin? The slow hell. Click it...   \n",
       "6  Amazon Shopping  Once unnecessary permissions disabled, mostly ...   \n",
       "7  Amazon Shopping  Always slow painful use, I feel back days dial...   \n",
       "8  Amazon Shopping  Why Apple's supports long press shortcuts not?...   \n",
       "9  Amazon Shopping  The home page sloppy otherwise connects many A...   \n",
       "\n",
       "   Sentiment  Sentiment_Polarity  Sentiment_Subjectivity  \n",
       "0          0           -0.166667                0.700000  \n",
       "1          0           -0.300000                0.600000  \n",
       "2          1            0.100000                0.657778  \n",
       "3          1            0.875000                0.600000  \n",
       "4          2            0.000000                0.100000  \n",
       "5          0           -0.100000                0.475000  \n",
       "6          0           -0.180000                0.600000  \n",
       "7          2            0.000000                0.512500  \n",
       "8          1            0.008333                0.533333  \n",
       "9          0           -0.013889                0.666667  "
      ]
     },
     "execution_count": 6,
     "metadata": {},
     "output_type": "execute_result"
    }
   ],
   "source": [
    "# Let's finalise 0,1,2 for Negative/Positive/Neutral Sentiments\n",
    "\n",
    "prepared_reviews_df['Sentiment'] = prepared_reviews_df['Sentiment'].apply(lambda x: 0 if x == 'Negative' else(1 if x == 'Positive' else 2))\n",
    "prepared_reviews_df.head(10)"
   ]
  },
  {
   "cell_type": "code",
   "execution_count": 7,
   "metadata": {
    "scrolled": true
   },
   "outputs": [
    {
     "name": "stdout",
     "output_type": "stream",
     "text": [
      "Shape:  (919, 2)\n",
      "----------------------------------------------------\n"
     ]
    },
    {
     "data": {
      "text/html": [
       "<div>\n",
       "<style scoped>\n",
       "    .dataframe tbody tr th:only-of-type {\n",
       "        vertical-align: middle;\n",
       "    }\n",
       "\n",
       "    .dataframe tbody tr th {\n",
       "        vertical-align: top;\n",
       "    }\n",
       "\n",
       "    .dataframe thead th {\n",
       "        text-align: right;\n",
       "    }\n",
       "</style>\n",
       "<table border=\"1\" class=\"dataframe\">\n",
       "  <thead>\n",
       "    <tr style=\"text-align: right;\">\n",
       "      <th></th>\n",
       "      <th>Translated_Review</th>\n",
       "      <th>Sentiment</th>\n",
       "    </tr>\n",
       "  </thead>\n",
       "  <tbody>\n",
       "    <tr>\n",
       "      <th>0</th>\n",
       "      <td>Terrible change way switch wishlists. When scr...</td>\n",
       "      <td>0</td>\n",
       "    </tr>\n",
       "    <tr>\n",
       "      <th>1</th>\n",
       "      <td>Completely useless. They changed triple price,...</td>\n",
       "      <td>0</td>\n",
       "    </tr>\n",
       "    <tr>\n",
       "      <th>2</th>\n",
       "      <td>Hey, Jeff Bezos, employees living cars feeling...</td>\n",
       "      <td>1</td>\n",
       "    </tr>\n",
       "    <tr>\n",
       "      <th>3</th>\n",
       "      <td>Good app, keeps supposed to. Error messages do...</td>\n",
       "      <td>1</td>\n",
       "    </tr>\n",
       "    <tr>\n",
       "      <th>4</th>\n",
       "      <td>This actually looking dogs error messages unde...</td>\n",
       "      <td>2</td>\n",
       "    </tr>\n",
       "    <tr>\n",
       "      <th>5</th>\n",
       "      <td>Amazon stretched thin? The slow hell. Click it...</td>\n",
       "      <td>0</td>\n",
       "    </tr>\n",
       "    <tr>\n",
       "      <th>6</th>\n",
       "      <td>Once unnecessary permissions disabled, mostly ...</td>\n",
       "      <td>0</td>\n",
       "    </tr>\n",
       "    <tr>\n",
       "      <th>7</th>\n",
       "      <td>Always slow painful use, I feel back days dial...</td>\n",
       "      <td>2</td>\n",
       "    </tr>\n",
       "  </tbody>\n",
       "</table>\n",
       "</div>"
      ],
      "text/plain": [
       "                                   Translated_Review  Sentiment\n",
       "0  Terrible change way switch wishlists. When scr...          0\n",
       "1  Completely useless. They changed triple price,...          0\n",
       "2  Hey, Jeff Bezos, employees living cars feeling...          1\n",
       "3  Good app, keeps supposed to. Error messages do...          1\n",
       "4  This actually looking dogs error messages unde...          2\n",
       "5  Amazon stretched thin? The slow hell. Click it...          0\n",
       "6  Once unnecessary permissions disabled, mostly ...          0\n",
       "7  Always slow painful use, I feel back days dial...          2"
      ]
     },
     "execution_count": 7,
     "metadata": {},
     "output_type": "execute_result"
    }
   ],
   "source": [
    "sentiment_data = prepared_reviews_df.loc[:,['Translated_Review','Sentiment']]\n",
    "print('Shape: ',sentiment_data.shape)\n",
    "print('----------------------------------------------------')\n",
    "sentiment_data.head(8)"
   ]
  },
  {
   "cell_type": "code",
   "execution_count": 8,
   "metadata": {},
   "outputs": [
    {
     "data": {
      "image/png": "[encoded data removed]",
      "text/plain": [
       "<Figure size 432x288 with 1 Axes>"
      ]
     },
     "metadata": {},
     "output_type": "display_data"
    }
   ],
   "source": [
    "sns.countplot(x = 'Sentiment',data = sentiment_data);\n",
    "plt.title('Distribution of Sentiments for us!');"
   ]
  },
  {
   "cell_type": "markdown",
   "metadata": {},
   "source": [
    "### Now from here, we will do the following actions on the Translated_Review column:  \n",
    "- Remove Punctuations  \n",
    "- Remove unwanted STOPWORDS  \n",
    "- Remove **expressions/symbols like commas,questions marks, apostrophies, dash, etc.**  \n",
    "- Lemmatization  \n",
    "- Prepare the Tokenization/Word Embedding for the Review.  "
   ]
  },
  {
   "cell_type": "code",
   "execution_count": 9,
   "metadata": {},
   "outputs": [],
   "source": [
    "to_be_replaced_with_no_space = re.compile(\"(\\.)|(\\;)|(\\:)|(\\!)|(\\')|(\\?)|(\\,)|(\\\")|(\\()|(\\))|(\\[)|(\\])|(\\d+)\")\n",
    "to_be_replaced_with_space = re.compile(\"(<br\\s*/><br\\s*/>)|(\\-)|(\\/)\")\n",
    "\n",
    "def process_review(reviews):\n",
    "    reviews = [to_be_replaced_with_no_space.sub('',line.lower()) for line in reviews]\n",
    "    reviews = [to_be_replaced_with_space.sub(' ',line.lower()) for line in reviews]\n",
    "    \n",
    "    return reviews\n",
    "\n",
    "train = sentiment_data.Translated_Review[:643]\n",
    "test = sentiment_data.Translated_Review[643:]"
   ]
  },
  {
   "cell_type": "code",
   "execution_count": 10,
   "metadata": {},
   "outputs": [],
   "source": [
    "def perform_modelling(df_train,df_test):\n",
    "    cv = CountVectorizer(binary=True)\n",
    "    cv.fit(df_train)\n",
    "    X = cv.transform(df_train)\n",
    "    X_test = cv.transform(df_test)\n",
    "    target = sentiment_data.Sentiment[:643]\n",
    "    X_train, X_val, y_train, y_val = train_test_split(\n",
    "        X, target, train_size = 0.7\n",
    "    )\n",
    "\n",
    "    for c in [0.01,0.05,0.1,0.25,0.5,0.75]:\n",
    "        clf = svm.SVC(decision_function_shape='ovo',C=c)\n",
    "        clf.fit(X_train,y_train)\n",
    "        print('Accuracy for C=%s :%s'%(c,round(accuracy_score(y_val,clf.predict(X_val)),4)))"
   ]
  },
  {
   "cell_type": "code",
   "execution_count": 11,
   "metadata": {},
   "outputs": [
    {
     "name": "stdout",
     "output_type": "stream",
     "text": [
      "hey jeff bezos employees living cars feeling suicidal poor work conditions written meet unrealistic productivity demands even much speak employees all while living mansion plan build rocketships billions make profits instead making sure employees well taken care of how feel that do feel good yourself\n",
      "---------------------------\n",
      "Hey, Jeff Bezos, employees living cars feeling suicidal poor work conditions written meet unrealistic productivity demands even much speak employees. All while, living mansion plan build rocketships billions make profits instead making sure employees well taken care of. How feel that? Do feel good yourself?\n"
     ]
    }
   ],
   "source": [
    "# Now let's process our Reviews\n",
    "cleaned_train = process_review(train)\n",
    "cleaned_test = process_review(test)\n",
    "print(cleaned_train[2])\n",
    "print('---------------------------')\n",
    "print(sentiment_data.Translated_Review[2])"
   ]
  },
  {
   "cell_type": "code",
   "execution_count": 12,
   "metadata": {},
   "outputs": [
    {
     "name": "stdout",
     "output_type": "stream",
     "text": [
      "amazon stretched thin the slow hell click item device takes sweet time load not internet mb s\n",
      "---------------------------\n",
      "Amazon stretched thin? The slow hell. Click item device takes sweet time load. Not internet (300mb/s)\n"
     ]
    }
   ],
   "source": [
    "print(cleaned_train[5])\n",
    "print('---------------------------')\n",
    "print(sentiment_data.Translated_Review[5])"
   ]
  },
  {
   "cell_type": "code",
   "execution_count": 13,
   "metadata": {},
   "outputs": [
    {
     "name": "stdout",
     "output_type": "stream",
     "text": [
      "Accuracy for C=0.01 :0.6321\n",
      "Accuracy for C=0.05 :0.6321\n",
      "Accuracy for C=0.1 :0.6321\n",
      "Accuracy for C=0.25 :0.6321\n",
      "Accuracy for C=0.5 :0.6943\n",
      "Accuracy for C=0.75 :0.7617\n"
     ]
    }
   ],
   "source": [
    "perform_modelling(cleaned_train,cleaned_test)"
   ]
  },
  {
   "cell_type": "code",
   "execution_count": 14,
   "metadata": {},
   "outputs": [],
   "source": [
    "the_library_of_stop_words = stopwords.words('english')\n",
    "def remove_stop_words(text_input):\n",
    "    removed_stop_words = []\n",
    "    for review in text_input:\n",
    "        removed_stop_words.append(\n",
    "            ' '.join([word for word in review.split() \n",
    "                      if word not in the_library_of_stop_words])\n",
    "        )\n",
    "    return removed_stop_words"
   ]
  },
  {
   "cell_type": "code",
   "execution_count": 15,
   "metadata": {},
   "outputs": [],
   "source": [
    "cleaned_train_data_from_stop_words = remove_stop_words(cleaned_train)\n",
    "cleaned_test_data_from_stop_words = remove_stop_words(cleaned_test)"
   ]
  },
  {
   "cell_type": "code",
   "execution_count": 16,
   "metadata": {},
   "outputs": [
    {
     "name": "stdout",
     "output_type": "stream",
     "text": [
      "amazon stretched thin slow hell click item device takes sweet time load internet mb\n",
      "---------------------------\n",
      "Amazon stretched thin? The slow hell. Click item device takes sweet time load. Not internet (300mb/s)\n"
     ]
    }
   ],
   "source": [
    "print(cleaned_train_data_from_stop_words[5])\n",
    "print('---------------------------')\n",
    "print(sentiment_data.Translated_Review[5])"
   ]
  },
  {
   "cell_type": "code",
   "execution_count": 17,
   "metadata": {},
   "outputs": [
    {
     "name": "stdout",
     "output_type": "stream",
     "text": [
      "Accuracy for C=0.01 :0.658\n",
      "Accuracy for C=0.05 :0.658\n",
      "Accuracy for C=0.1 :0.658\n",
      "Accuracy for C=0.25 :0.658\n",
      "Accuracy for C=0.5 :0.7306\n",
      "Accuracy for C=0.75 :0.7772\n"
     ]
    }
   ],
   "source": [
    "perform_modelling(cleaned_train_data_from_stop_words,cleaned_test_data_from_stop_words)"
   ]
  },
  {
   "cell_type": "code",
   "execution_count": 18,
   "metadata": {},
   "outputs": [
    {
     "name": "stdout",
     "output_type": "stream",
     "text": [
      "Final Accuracy:  0.7246\n"
     ]
    }
   ],
   "source": [
    "cv = CountVectorizer(binary=True)\n",
    "cv.fit(cleaned_train_data_from_stop_words)\n",
    "X = cv.transform(cleaned_train_data_from_stop_words)\n",
    "X_test = cv.transform(cleaned_test_data_from_stop_words)\n",
    "target = sentiment_data.Sentiment[:643]\n",
    "target_test = sentiment_data.Sentiment[643:]\n",
    "X_train, X_val, y_train, y_val = train_test_split(\n",
    "    X, target, train_size = 0.7\n",
    ")\n",
    "\n",
    "# Now let's check for the test set\n",
    "lr_model_stemmed = svm.SVC(decision_function_shape='ovo',C=0.75)\n",
    "lr_model_stemmed.fit(X,target)\n",
    "print('Final Accuracy: ',round(accuracy_score(target_test,lr_model_stemmed.predict(X_test)),4))"
   ]
  },
  {
   "cell_type": "code",
   "execution_count": 19,
   "metadata": {},
   "outputs": [],
   "source": [
    "def lemmatizing_of_data(text_input):\n",
    "    lemmatizer = WordNetLemmatizer()\n",
    "    return [' '.join([lemmatizer.lemmatize(word) for word in text.split()]) for text in text_input]"
   ]
  },
  {
   "cell_type": "code",
   "execution_count": 20,
   "metadata": {},
   "outputs": [],
   "source": [
    "# For Stop Words\n",
    "lemmatized_reviews_train_stop_words_excluded = lemmatizing_of_data(cleaned_train_data_from_stop_words)\n",
    "lemmatized_reviews_test_stop_words_excluded = lemmatizing_of_data(cleaned_test_data_from_stop_words)"
   ]
  },
  {
   "cell_type": "code",
   "execution_count": 21,
   "metadata": {},
   "outputs": [
    {
     "name": "stdout",
     "output_type": "stream",
     "text": [
      "Accuracy for C=0.01 :0.6425\n",
      "Accuracy for C=0.05 :0.6425\n",
      "Accuracy for C=0.1 :0.6425\n",
      "Accuracy for C=0.25 :0.6425\n",
      "Accuracy for C=0.5 :0.7098\n",
      "Accuracy for C=0.75 :0.7617\n"
     ]
    }
   ],
   "source": [
    "perform_modelling(lemmatized_reviews_train_stop_words_excluded,lemmatized_reviews_test_stop_words_excluded)"
   ]
  },
  {
   "cell_type": "code",
   "execution_count": 22,
   "metadata": {},
   "outputs": [
    {
     "name": "stdout",
     "output_type": "stream",
     "text": [
      "Accuracy for C=0.01 :0.6062\n",
      "Accuracy for C=0.05 :0.6062\n",
      "Accuracy for C=0.1 :0.6062\n",
      "Accuracy for C=0.25 :0.6062\n",
      "Accuracy for C=0.5 :0.6632\n",
      "Accuracy for C=0.75 :0.7202\n"
     ]
    }
   ],
   "source": [
    "# For only Cleaned Data\n",
    "lemmatized_reviews_train = lemmatizing_of_data(cleaned_train)\n",
    "lemmatized_reviews_test = lemmatizing_of_data(cleaned_test)\n",
    "perform_modelling(lemmatized_reviews_train,lemmatized_reviews_test)"
   ]
  },
  {
   "cell_type": "markdown",
   "metadata": {},
   "source": [
    "##### Checking TEST Performance"
   ]
  },
  {
   "cell_type": "code",
   "execution_count": 23,
   "metadata": {},
   "outputs": [
    {
     "name": "stdout",
     "output_type": "stream",
     "text": [
      "Final Accuracy:  0.75\n"
     ]
    }
   ],
   "source": [
    "cv = CountVectorizer(binary=True)\n",
    "cv.fit(lemmatized_reviews_train)\n",
    "X = cv.transform(lemmatized_reviews_train)\n",
    "X_test = cv.transform(lemmatized_reviews_test)\n",
    "target = sentiment_data.Sentiment[:643]\n",
    "target_test = sentiment_data.Sentiment[643:]\n",
    "X_train, X_val, y_train, y_val = train_test_split(\n",
    "    X, target, train_size = 0.7\n",
    ")\n",
    "\n",
    "# Now let's check for the test set\n",
    "lr_model_stemmed = svm.SVC(decision_function_shape='ovo',C=0.75)\n",
    "lr_model_stemmed.fit(X,target)\n",
    "print('Final Accuracy: ',round(accuracy_score(target_test,lr_model_stemmed.predict(X_test)),4))"
   ]
  },
  {
   "cell_type": "code",
   "execution_count": 24,
   "metadata": {},
   "outputs": [],
   "source": [
    "def perform_modelling_n_gram(df_train,df_test):\n",
    "    ngram_cv = CountVectorizer(binary=True,ngram_range=(1,2))\n",
    "    ngram_cv.fit(df_train)\n",
    "    X = ngram_cv.transform(df_train)\n",
    "    X_test = ngram_cv.transform(df_test)\n",
    "    target = sentiment_data.Sentiment[:643]\n",
    "    X_train, X_val, y_train, y_val = train_test_split(\n",
    "        X, target, train_size = 0.7\n",
    "    )\n",
    "\n",
    "    for c in [0.01,0.05,0.1,0.25,0.5,0.75]:\n",
    "        clf = svm.SVC(decision_function_shape='ovo',C=c)\n",
    "        clf.fit(X_train,y_train)\n",
    "        print('Accuracy for C=%s :%s'%(c,round(accuracy_score(y_val,clf.predict(X_val)),4)))"
   ]
  },
  {
   "cell_type": "code",
   "execution_count": 25,
   "metadata": {},
   "outputs": [
    {
     "name": "stdout",
     "output_type": "stream",
     "text": [
      "Accuracy for C=0.01 :0.5751\n",
      "Accuracy for C=0.05 :0.5751\n",
      "Accuracy for C=0.1 :0.5751\n",
      "Accuracy for C=0.25 :0.5751\n",
      "Accuracy for C=0.5 :0.601\n",
      "Accuracy for C=0.75 :0.6891\n"
     ]
    }
   ],
   "source": [
    "perform_modelling_n_gram(cleaned_train_data_from_stop_words,cleaned_test_data_from_stop_words)"
   ]
  },
  {
   "cell_type": "code",
   "execution_count": 26,
   "metadata": {},
   "outputs": [
    {
     "name": "stdout",
     "output_type": "stream",
     "text": [
      "Accuracy for C=0.01 :0.5699\n",
      "Accuracy for C=0.05 :0.5699\n",
      "Accuracy for C=0.1 :0.5699\n",
      "Accuracy for C=0.25 :0.5699\n",
      "Accuracy for C=0.5 :0.5751\n",
      "Accuracy for C=0.75 :0.6943\n"
     ]
    }
   ],
   "source": [
    "perform_modelling_n_gram(lemmatized_reviews_train,lemmatized_reviews_test)"
   ]
  },
  {
   "cell_type": "markdown",
   "metadata": {},
   "source": [
    "Points to note:  \n",
    "- C values for which we get much better accuracy is **0.5 and 0.75**.  \n",
    "- Now, the better accuracy we get is around **0.75** for the model built on **Clean Data Set** without bringing N GRAM or Lemmatization in picture   \n",
    "- Now, we know that we SVM model tried to learn the pattern, but couldn't. Next we will try the below things:  \n",
    "    - Find the Top Positive and Top Negative Words.  \n",
    "    - Use some Deep Learning techniques like RNN maybe/BERT for better Sentiment Analysis results.  \n",
    "    \n",
    "###### Some of the Challenges we have:  \n",
    "1. The Sentiment is Multi Class in this problem statement.  \n",
    "2. We have less amout of Data for reviews scenarios.  \n",
    "3. We also see, that there is high imbalance between 0,1,2 reviews. So for Balancing, we can either remove **Neutral** reviews or merge them with **Negative** reviews.  "
   ]
  },
  {
   "cell_type": "code",
   "execution_count": null,
   "metadata": {},
   "outputs": [],
   "source": []
  },
  {
   "cell_type": "code",
   "execution_count": null,
   "metadata": {},
   "outputs": [],
   "source": []
  },
  {
   "cell_type": "code",
   "execution_count": null,
   "metadata": {},
   "outputs": [],
   "source": []
  }
 ],
 "metadata": {
  "kernelspec": {
   "display_name": "Python 3",
   "language": "python",
   "name": "python3"
  },
  "language_info": {
   "codemirror_mode": {
    "name": "ipython",
    "version": 3
   },
   "file_extension": ".py",
   "mimetype": "text/x-python",
   "name": "python",
   "nbconvert_exporter": "python",
   "pygments_lexer": "ipython3",
   "version": "3.6.5"
  }
 },
 "nbformat": 4,
 "nbformat_minor": 2
}
