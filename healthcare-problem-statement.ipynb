{
 "cells": [
  {
   "cell_type": "code",
   "execution_count": 1,
   "id": "8f18eef8",
   "metadata": {
    "_cell_guid": "b1076dfc-b9ad-4769-8c92-a6c4dae69d19",
    "_uuid": "8f2839f25d086af736a60e9eeb907d3b93b6e0e5",
    "execution": {
     "iopub.execute_input": "2022-02-26T14:10:26.317078Z",
     "iopub.status.busy": "2022-02-26T14:10:26.316072Z",
     "iopub.status.idle": "2022-02-26T14:10:27.211059Z",
     "shell.execute_reply": "2022-02-26T14:10:27.211529Z",
     "shell.execute_reply.started": "2022-02-26T13:00:32.858067Z"
    },
    "papermill": {
     "duration": 0.917482,
     "end_time": "2022-02-26T14:10:27.211793",
     "exception": false,
     "start_time": "2022-02-26T14:10:26.294311",
     "status": "completed"
    },
    "tags": []
   },
   "outputs": [
    {
     "name": "stdout",
     "output_type": "stream",
     "text": [
      "/kaggle/input/av-healthcare-analytics-ii/healthcare/sample_sub.csv\n",
      "/kaggle/input/av-healthcare-analytics-ii/healthcare/train_data_dictionary.csv\n",
      "/kaggle/input/av-healthcare-analytics-ii/healthcare/train_data.csv\n",
      "/kaggle/input/av-healthcare-analytics-ii/healthcare/test_data.csv\n"
     ]
    }
   ],
   "source": [
    "# This Python 3 environment comes with many helpful analytics libraries installed\n",
    "# It is defined by the kaggle/python Docker image: https://github.com/kaggle/docker-python\n",
    "# For example, here's several helpful packages to load\n",
    "\n",
    "import numpy as np # linear algebra\n",
    "import pandas as pd # data processing, CSV file I/O (e.g. pd.read_csv)+\n",
    "import seaborn as sns\n",
    "import matplotlib.pyplot as plt\n",
    "\n",
    "# Input data files are available in the read-only \"../input/\" directory\n",
    "# For example, running this (by clicking run or pressing Shift+Enter) will list all files under the input directory\n",
    "\n",
    "import os\n",
    "for dirname, _, filenames in os.walk('/kaggle/input'):\n",
    "    for filename in filenames:\n",
    "        print(os.path.join(dirname, filename))\n",
    "\n",
    "# You can write up to 20GB to the current directory (/kaggle/working/) that gets preserved as output when you create a version using \"Save & Run All\" \n",
    "# You can also write temporary files to /kaggle/temp/, but they won't be saved outside of the current session"
   ]
  },
  {
   "cell_type": "code",
   "execution_count": 2,
   "id": "abd4949d",
   "metadata": {
    "execution": {
     "iopub.execute_input": "2022-02-26T14:10:27.250275Z",
     "iopub.status.busy": "2022-02-26T14:10:27.249692Z",
     "iopub.status.idle": "2022-02-26T14:10:28.411629Z",
     "shell.execute_reply": "2022-02-26T14:10:28.411122Z",
     "shell.execute_reply.started": "2022-02-26T13:00:33.843744Z"
    },
    "papermill": {
     "duration": 1.181396,
     "end_time": "2022-02-26T14:10:28.411747",
     "exception": false,
     "start_time": "2022-02-26T14:10:27.230351",
     "status": "completed"
    },
    "tags": []
   },
   "outputs": [
    {
     "data": {
      "text/html": [
       "<div>\n",
       "<style scoped>\n",
       "    .dataframe tbody tr th:only-of-type {\n",
       "        vertical-align: middle;\n",
       "    }\n",
       "\n",
       "    .dataframe tbody tr th {\n",
       "        vertical-align: top;\n",
       "    }\n",
       "\n",
       "    .dataframe thead th {\n",
       "        text-align: right;\n",
       "    }\n",
       "</style>\n",
       "<table border=\"1\" class=\"dataframe\">\n",
       "  <thead>\n",
       "    <tr style=\"text-align: right;\">\n",
       "      <th></th>\n",
       "      <th>case_id</th>\n",
       "      <th>Hospital_code</th>\n",
       "      <th>Hospital_type_code</th>\n",
       "      <th>City_Code_Hospital</th>\n",
       "      <th>Hospital_region_code</th>\n",
       "      <th>Available Extra Rooms in Hospital</th>\n",
       "      <th>Department</th>\n",
       "      <th>Ward_Type</th>\n",
       "      <th>Ward_Facility_Code</th>\n",
       "      <th>Bed Grade</th>\n",
       "      <th>patientid</th>\n",
       "      <th>City_Code_Patient</th>\n",
       "      <th>Type of Admission</th>\n",
       "      <th>Severity of Illness</th>\n",
       "      <th>Visitors with Patient</th>\n",
       "      <th>Age</th>\n",
       "      <th>Admission_Deposit</th>\n",
       "      <th>Stay</th>\n",
       "    </tr>\n",
       "  </thead>\n",
       "  <tbody>\n",
       "    <tr>\n",
       "      <th>0</th>\n",
       "      <td>1</td>\n",
       "      <td>8</td>\n",
       "      <td>c</td>\n",
       "      <td>3</td>\n",
       "      <td>Z</td>\n",
       "      <td>3</td>\n",
       "      <td>radiotherapy</td>\n",
       "      <td>R</td>\n",
       "      <td>F</td>\n",
       "      <td>2.0</td>\n",
       "      <td>31397</td>\n",
       "      <td>7.0</td>\n",
       "      <td>Emergency</td>\n",
       "      <td>Extreme</td>\n",
       "      <td>2</td>\n",
       "      <td>51-60</td>\n",
       "      <td>4911.0</td>\n",
       "      <td>0-10</td>\n",
       "    </tr>\n",
       "    <tr>\n",
       "      <th>1</th>\n",
       "      <td>2</td>\n",
       "      <td>2</td>\n",
       "      <td>c</td>\n",
       "      <td>5</td>\n",
       "      <td>Z</td>\n",
       "      <td>2</td>\n",
       "      <td>radiotherapy</td>\n",
       "      <td>S</td>\n",
       "      <td>F</td>\n",
       "      <td>2.0</td>\n",
       "      <td>31397</td>\n",
       "      <td>7.0</td>\n",
       "      <td>Trauma</td>\n",
       "      <td>Extreme</td>\n",
       "      <td>2</td>\n",
       "      <td>51-60</td>\n",
       "      <td>5954.0</td>\n",
       "      <td>41-50</td>\n",
       "    </tr>\n",
       "    <tr>\n",
       "      <th>2</th>\n",
       "      <td>3</td>\n",
       "      <td>10</td>\n",
       "      <td>e</td>\n",
       "      <td>1</td>\n",
       "      <td>X</td>\n",
       "      <td>2</td>\n",
       "      <td>anesthesia</td>\n",
       "      <td>S</td>\n",
       "      <td>E</td>\n",
       "      <td>2.0</td>\n",
       "      <td>31397</td>\n",
       "      <td>7.0</td>\n",
       "      <td>Trauma</td>\n",
       "      <td>Extreme</td>\n",
       "      <td>2</td>\n",
       "      <td>51-60</td>\n",
       "      <td>4745.0</td>\n",
       "      <td>31-40</td>\n",
       "    </tr>\n",
       "    <tr>\n",
       "      <th>3</th>\n",
       "      <td>4</td>\n",
       "      <td>26</td>\n",
       "      <td>b</td>\n",
       "      <td>2</td>\n",
       "      <td>Y</td>\n",
       "      <td>2</td>\n",
       "      <td>radiotherapy</td>\n",
       "      <td>R</td>\n",
       "      <td>D</td>\n",
       "      <td>2.0</td>\n",
       "      <td>31397</td>\n",
       "      <td>7.0</td>\n",
       "      <td>Trauma</td>\n",
       "      <td>Extreme</td>\n",
       "      <td>2</td>\n",
       "      <td>51-60</td>\n",
       "      <td>7272.0</td>\n",
       "      <td>41-50</td>\n",
       "    </tr>\n",
       "    <tr>\n",
       "      <th>4</th>\n",
       "      <td>5</td>\n",
       "      <td>26</td>\n",
       "      <td>b</td>\n",
       "      <td>2</td>\n",
       "      <td>Y</td>\n",
       "      <td>2</td>\n",
       "      <td>radiotherapy</td>\n",
       "      <td>S</td>\n",
       "      <td>D</td>\n",
       "      <td>2.0</td>\n",
       "      <td>31397</td>\n",
       "      <td>7.0</td>\n",
       "      <td>Trauma</td>\n",
       "      <td>Extreme</td>\n",
       "      <td>2</td>\n",
       "      <td>51-60</td>\n",
       "      <td>5558.0</td>\n",
       "      <td>41-50</td>\n",
       "    </tr>\n",
       "  </tbody>\n",
       "</table>\n",
       "</div>"
      ],
      "text/plain": [
       "   case_id  Hospital_code Hospital_type_code  City_Code_Hospital  \\\n",
       "0        1              8                  c                   3   \n",
       "1        2              2                  c                   5   \n",
       "2        3             10                  e                   1   \n",
       "3        4             26                  b                   2   \n",
       "4        5             26                  b                   2   \n",
       "\n",
       "  Hospital_region_code  Available Extra Rooms in Hospital    Department  \\\n",
       "0                    Z                                  3  radiotherapy   \n",
       "1                    Z                                  2  radiotherapy   \n",
       "2                    X                                  2    anesthesia   \n",
       "3                    Y                                  2  radiotherapy   \n",
       "4                    Y                                  2  radiotherapy   \n",
       "\n",
       "  Ward_Type Ward_Facility_Code  Bed Grade  patientid  City_Code_Patient  \\\n",
       "0         R                  F        2.0      31397                7.0   \n",
       "1         S                  F        2.0      31397                7.0   \n",
       "2         S                  E        2.0      31397                7.0   \n",
       "3         R                  D        2.0      31397                7.0   \n",
       "4         S                  D        2.0      31397                7.0   \n",
       "\n",
       "  Type of Admission Severity of Illness  Visitors with Patient    Age  \\\n",
       "0         Emergency             Extreme                      2  51-60   \n",
       "1            Trauma             Extreme                      2  51-60   \n",
       "2            Trauma             Extreme                      2  51-60   \n",
       "3            Trauma             Extreme                      2  51-60   \n",
       "4            Trauma             Extreme                      2  51-60   \n",
       "\n",
       "   Admission_Deposit   Stay  \n",
       "0             4911.0   0-10  \n",
       "1             5954.0  41-50  \n",
       "2             4745.0  31-40  \n",
       "3             7272.0  41-50  \n",
       "4             5558.0  41-50  "
      ]
     },
     "execution_count": 2,
     "metadata": {},
     "output_type": "execute_result"
    }
   ],
   "source": [
    "train_dataset = pd.read_csv('/kaggle/input/av-healthcare-analytics-ii/healthcare/train_data.csv')\n",
    "test_dataset = pd.read_csv('/kaggle/input/av-healthcare-analytics-ii/healthcare/test_data.csv')\n",
    "\n",
    "train_dataset.head()"
   ]
  },
  {
   "cell_type": "markdown",
   "id": "3d3f5bc9",
   "metadata": {
    "papermill": {
     "duration": 0.01785,
     "end_time": "2022-02-26T14:10:28.448348",
     "exception": false,
     "start_time": "2022-02-26T14:10:28.430498",
     "status": "completed"
    },
    "tags": []
   },
   "source": [
    "#### Let me tell you what i am thinking.\n",
    "For me this is a fun-weekend activity where i am looking at a MajorHealthcare sector problem.\n",
    "How coool/feasibilie it will be if we get to **predict the hospitalization duration** for a particular patient, right?\n",
    "We get to:  \n",
    "- Better medical treatment🩺,\n",
    "- Precise doctor management and maintaining work-life balance for healtchare-workers💕,\n",
    "- Generate better revenues💰,\n",
    "- Get more brand value under a Medical Sector⚡,\n",
    "- Patient good review\n",
    "\n",
    "I'll quickly think what we will try to inference out.\n",
    "Primarily, want to focus on the below point:\n",
    "- Categories present in target feature **stay**,\n",
    "    - Find the **age** pattern, ✔\n",
    "    - Which **department** requires longer stay? ✔\n",
    "    - Which **hospital code**, on an average sees longer stay?\n",
    "    - Average **deposit amount** under each *stay category*"
   ]
  },
  {
   "cell_type": "code",
   "execution_count": 3,
   "id": "fd37865a",
   "metadata": {
    "execution": {
     "iopub.execute_input": "2022-02-26T14:10:28.489014Z",
     "iopub.status.busy": "2022-02-26T14:10:28.488495Z",
     "iopub.status.idle": "2022-02-26T14:10:28.491613Z",
     "shell.execute_reply": "2022-02-26T14:10:28.491054Z",
     "shell.execute_reply.started": "2022-02-26T13:00:34.940722Z"
    },
    "papermill": {
     "duration": 0.024998,
     "end_time": "2022-02-26T14:10:28.491720",
     "exception": false,
     "start_time": "2022-02-26T14:10:28.466722",
     "status": "completed"
    },
    "tags": []
   },
   "outputs": [
    {
     "name": "stdout",
     "output_type": "stream",
     "text": [
      "Train Data:(318438, 18)\n",
      "Test Data:(137057, 17)\n"
     ]
    }
   ],
   "source": [
    "print(f\"Train Data:{train_dataset.shape}\")\n",
    "print(f\"Test Data:{test_dataset.shape}\")"
   ]
  },
  {
   "cell_type": "code",
   "execution_count": 4,
   "id": "6fb5b70a",
   "metadata": {
    "execution": {
     "iopub.execute_input": "2022-02-26T14:10:28.545848Z",
     "iopub.status.busy": "2022-02-26T14:10:28.542871Z",
     "iopub.status.idle": "2022-02-26T14:10:28.643725Z",
     "shell.execute_reply": "2022-02-26T14:10:28.642978Z",
     "shell.execute_reply.started": "2022-02-26T13:00:34.951772Z"
    },
    "papermill": {
     "duration": 0.133714,
     "end_time": "2022-02-26T14:10:28.643905",
     "exception": false,
     "start_time": "2022-02-26T14:10:28.510191",
     "status": "completed"
    },
    "tags": []
   },
   "outputs": [
    {
     "data": {
      "text/html": [
       "<div>\n",
       "<style scoped>\n",
       "    .dataframe tbody tr th:only-of-type {\n",
       "        vertical-align: middle;\n",
       "    }\n",
       "\n",
       "    .dataframe tbody tr th {\n",
       "        vertical-align: top;\n",
       "    }\n",
       "\n",
       "    .dataframe thead th {\n",
       "        text-align: right;\n",
       "    }\n",
       "</style>\n",
       "<table border=\"1\" class=\"dataframe\">\n",
       "  <thead>\n",
       "    <tr style=\"text-align: right;\">\n",
       "      <th></th>\n",
       "      <th>case_id</th>\n",
       "      <th>Hospital_code</th>\n",
       "      <th>City_Code_Hospital</th>\n",
       "      <th>Available Extra Rooms in Hospital</th>\n",
       "      <th>Bed Grade</th>\n",
       "      <th>patientid</th>\n",
       "      <th>City_Code_Patient</th>\n",
       "      <th>Visitors with Patient</th>\n",
       "      <th>Admission_Deposit</th>\n",
       "    </tr>\n",
       "  </thead>\n",
       "  <tbody>\n",
       "    <tr>\n",
       "      <th>count</th>\n",
       "      <td>318438.000000</td>\n",
       "      <td>318438.000000</td>\n",
       "      <td>318438.000000</td>\n",
       "      <td>318438.000000</td>\n",
       "      <td>318325.000000</td>\n",
       "      <td>318438.000000</td>\n",
       "      <td>313906.000000</td>\n",
       "      <td>318438.000000</td>\n",
       "      <td>318438.000000</td>\n",
       "    </tr>\n",
       "    <tr>\n",
       "      <th>mean</th>\n",
       "      <td>159219.500000</td>\n",
       "      <td>18.318841</td>\n",
       "      <td>4.771717</td>\n",
       "      <td>3.197627</td>\n",
       "      <td>2.625807</td>\n",
       "      <td>65747.579472</td>\n",
       "      <td>7.251859</td>\n",
       "      <td>3.284099</td>\n",
       "      <td>4880.749392</td>\n",
       "    </tr>\n",
       "    <tr>\n",
       "      <th>std</th>\n",
       "      <td>91925.276847</td>\n",
       "      <td>8.633755</td>\n",
       "      <td>3.102535</td>\n",
       "      <td>1.168171</td>\n",
       "      <td>0.873146</td>\n",
       "      <td>37979.936440</td>\n",
       "      <td>4.745266</td>\n",
       "      <td>1.764061</td>\n",
       "      <td>1086.776254</td>\n",
       "    </tr>\n",
       "    <tr>\n",
       "      <th>min</th>\n",
       "      <td>1.000000</td>\n",
       "      <td>1.000000</td>\n",
       "      <td>1.000000</td>\n",
       "      <td>0.000000</td>\n",
       "      <td>1.000000</td>\n",
       "      <td>1.000000</td>\n",
       "      <td>1.000000</td>\n",
       "      <td>0.000000</td>\n",
       "      <td>1800.000000</td>\n",
       "    </tr>\n",
       "    <tr>\n",
       "      <th>25%</th>\n",
       "      <td>79610.250000</td>\n",
       "      <td>11.000000</td>\n",
       "      <td>2.000000</td>\n",
       "      <td>2.000000</td>\n",
       "      <td>2.000000</td>\n",
       "      <td>32847.000000</td>\n",
       "      <td>4.000000</td>\n",
       "      <td>2.000000</td>\n",
       "      <td>4186.000000</td>\n",
       "    </tr>\n",
       "    <tr>\n",
       "      <th>50%</th>\n",
       "      <td>159219.500000</td>\n",
       "      <td>19.000000</td>\n",
       "      <td>5.000000</td>\n",
       "      <td>3.000000</td>\n",
       "      <td>3.000000</td>\n",
       "      <td>65724.500000</td>\n",
       "      <td>8.000000</td>\n",
       "      <td>3.000000</td>\n",
       "      <td>4741.000000</td>\n",
       "    </tr>\n",
       "    <tr>\n",
       "      <th>75%</th>\n",
       "      <td>238828.750000</td>\n",
       "      <td>26.000000</td>\n",
       "      <td>7.000000</td>\n",
       "      <td>4.000000</td>\n",
       "      <td>3.000000</td>\n",
       "      <td>98470.000000</td>\n",
       "      <td>8.000000</td>\n",
       "      <td>4.000000</td>\n",
       "      <td>5409.000000</td>\n",
       "    </tr>\n",
       "    <tr>\n",
       "      <th>max</th>\n",
       "      <td>318438.000000</td>\n",
       "      <td>32.000000</td>\n",
       "      <td>13.000000</td>\n",
       "      <td>24.000000</td>\n",
       "      <td>4.000000</td>\n",
       "      <td>131624.000000</td>\n",
       "      <td>38.000000</td>\n",
       "      <td>32.000000</td>\n",
       "      <td>11008.000000</td>\n",
       "    </tr>\n",
       "  </tbody>\n",
       "</table>\n",
       "</div>"
      ],
      "text/plain": [
       "             case_id  Hospital_code  City_Code_Hospital  \\\n",
       "count  318438.000000  318438.000000       318438.000000   \n",
       "mean   159219.500000      18.318841            4.771717   \n",
       "std     91925.276847       8.633755            3.102535   \n",
       "min         1.000000       1.000000            1.000000   \n",
       "25%     79610.250000      11.000000            2.000000   \n",
       "50%    159219.500000      19.000000            5.000000   \n",
       "75%    238828.750000      26.000000            7.000000   \n",
       "max    318438.000000      32.000000           13.000000   \n",
       "\n",
       "       Available Extra Rooms in Hospital      Bed Grade      patientid  \\\n",
       "count                      318438.000000  318325.000000  318438.000000   \n",
       "mean                            3.197627       2.625807   65747.579472   \n",
       "std                             1.168171       0.873146   37979.936440   \n",
       "min                             0.000000       1.000000       1.000000   \n",
       "25%                             2.000000       2.000000   32847.000000   \n",
       "50%                             3.000000       3.000000   65724.500000   \n",
       "75%                             4.000000       3.000000   98470.000000   \n",
       "max                            24.000000       4.000000  131624.000000   \n",
       "\n",
       "       City_Code_Patient  Visitors with Patient  Admission_Deposit  \n",
       "count      313906.000000          318438.000000      318438.000000  \n",
       "mean            7.251859               3.284099        4880.749392  \n",
       "std             4.745266               1.764061        1086.776254  \n",
       "min             1.000000               0.000000        1800.000000  \n",
       "25%             4.000000               2.000000        4186.000000  \n",
       "50%             8.000000               3.000000        4741.000000  \n",
       "75%             8.000000               4.000000        5409.000000  \n",
       "max            38.000000              32.000000       11008.000000  "
      ]
     },
     "execution_count": 4,
     "metadata": {},
     "output_type": "execute_result"
    }
   ],
   "source": [
    "train_dataset.describe()"
   ]
  },
  {
   "cell_type": "code",
   "execution_count": 5,
   "id": "9249a278",
   "metadata": {
    "execution": {
     "iopub.execute_input": "2022-02-26T14:10:28.736261Z",
     "iopub.status.busy": "2022-02-26T14:10:28.735625Z",
     "iopub.status.idle": "2022-02-26T14:10:28.964771Z",
     "shell.execute_reply": "2022-02-26T14:10:28.965159Z",
     "shell.execute_reply.started": "2022-02-26T13:00:35.063481Z"
    },
    "papermill": {
     "duration": 0.295105,
     "end_time": "2022-02-26T14:10:28.965336",
     "exception": false,
     "start_time": "2022-02-26T14:10:28.670231",
     "status": "completed"
    },
    "tags": []
   },
   "outputs": [
    {
     "data": {
      "image/png": "[encoded data removed]",
      "text/plain": [
       "<Figure size 432x288 with 1 Axes>"
      ]
     },
     "metadata": {
      "needs_background": "light"
     },
     "output_type": "display_data"
    }
   ],
   "source": [
    "# I though instead of showing values, let's look at a graph and directly infer!\n",
    "train_dataset.Stay.value_counts().plot(kind = 'barh');\n",
    "plt.title('Distribution of count for STAY');"
   ]
  },
  {
   "cell_type": "code",
   "execution_count": 6,
   "id": "13e0a4b3",
   "metadata": {
    "execution": {
     "iopub.execute_input": "2022-02-26T14:10:29.011840Z",
     "iopub.status.busy": "2022-02-26T14:10:29.010996Z",
     "iopub.status.idle": "2022-02-26T14:10:29.130128Z",
     "shell.execute_reply": "2022-02-26T14:10:29.130672Z",
     "shell.execute_reply.started": "2022-02-26T13:00:35.320931Z"
    },
    "papermill": {
     "duration": 0.145263,
     "end_time": "2022-02-26T14:10:29.130834",
     "exception": false,
     "start_time": "2022-02-26T14:10:28.985571",
     "status": "completed"
    },
    "tags": []
   },
   "outputs": [
    {
     "data": {
      "text/html": [
       "<div>\n",
       "<style scoped>\n",
       "    .dataframe tbody tr th:only-of-type {\n",
       "        vertical-align: middle;\n",
       "    }\n",
       "\n",
       "    .dataframe tbody tr th {\n",
       "        vertical-align: top;\n",
       "    }\n",
       "\n",
       "    .dataframe thead th {\n",
       "        text-align: right;\n",
       "    }\n",
       "</style>\n",
       "<table border=\"1\" class=\"dataframe\">\n",
       "  <thead>\n",
       "    <tr style=\"text-align: right;\">\n",
       "      <th></th>\n",
       "      <th>Stay</th>\n",
       "      <th>Age_0-10</th>\n",
       "      <th>Age_11-20</th>\n",
       "      <th>Age_21-30</th>\n",
       "      <th>Age_31-40</th>\n",
       "      <th>Age_41-50</th>\n",
       "      <th>Age_51-60</th>\n",
       "      <th>Age_61-70</th>\n",
       "      <th>Age_71-80</th>\n",
       "      <th>Age_81-90</th>\n",
       "      <th>Age_91-100</th>\n",
       "    </tr>\n",
       "  </thead>\n",
       "  <tbody>\n",
       "    <tr>\n",
       "      <th>0</th>\n",
       "      <td>0-10</td>\n",
       "      <td>615.0</td>\n",
       "      <td>1552.0</td>\n",
       "      <td>3467.0</td>\n",
       "      <td>4916.0</td>\n",
       "      <td>4727.0</td>\n",
       "      <td>3427.0</td>\n",
       "      <td>2194.0</td>\n",
       "      <td>2201.0</td>\n",
       "      <td>422.0</td>\n",
       "      <td>83.0</td>\n",
       "    </tr>\n",
       "    <tr>\n",
       "      <th>1</th>\n",
       "      <td>11-20</td>\n",
       "      <td>1959.0</td>\n",
       "      <td>5343.0</td>\n",
       "      <td>11272.0</td>\n",
       "      <td>15792.0</td>\n",
       "      <td>14959.0</td>\n",
       "      <td>11346.0</td>\n",
       "      <td>7870.0</td>\n",
       "      <td>7958.0</td>\n",
       "      <td>1392.0</td>\n",
       "      <td>248.0</td>\n",
       "    </tr>\n",
       "    <tr>\n",
       "      <th>2</th>\n",
       "      <td>21-30</td>\n",
       "      <td>1489.0</td>\n",
       "      <td>4312.0</td>\n",
       "      <td>11394.0</td>\n",
       "      <td>18550.0</td>\n",
       "      <td>17906.0</td>\n",
       "      <td>13058.0</td>\n",
       "      <td>9033.0</td>\n",
       "      <td>9534.0</td>\n",
       "      <td>1920.0</td>\n",
       "      <td>295.0</td>\n",
       "    </tr>\n",
       "    <tr>\n",
       "      <th>3</th>\n",
       "      <td>31-40</td>\n",
       "      <td>1014.0</td>\n",
       "      <td>2681.0</td>\n",
       "      <td>6912.0</td>\n",
       "      <td>10912.0</td>\n",
       "      <td>10983.0</td>\n",
       "      <td>8569.0</td>\n",
       "      <td>5930.0</td>\n",
       "      <td>6420.0</td>\n",
       "      <td>1504.0</td>\n",
       "      <td>234.0</td>\n",
       "    </tr>\n",
       "    <tr>\n",
       "      <th>4</th>\n",
       "      <td>41-50</td>\n",
       "      <td>187.0</td>\n",
       "      <td>510.0</td>\n",
       "      <td>1398.0</td>\n",
       "      <td>2373.0</td>\n",
       "      <td>2507.0</td>\n",
       "      <td>1735.0</td>\n",
       "      <td>1205.0</td>\n",
       "      <td>1383.0</td>\n",
       "      <td>379.0</td>\n",
       "      <td>66.0</td>\n",
       "    </tr>\n",
       "    <tr>\n",
       "      <th>5</th>\n",
       "      <td>51-60</td>\n",
       "      <td>582.0</td>\n",
       "      <td>1429.0</td>\n",
       "      <td>3793.0</td>\n",
       "      <td>6517.0</td>\n",
       "      <td>7189.0</td>\n",
       "      <td>5739.0</td>\n",
       "      <td>4081.0</td>\n",
       "      <td>4433.0</td>\n",
       "      <td>1082.0</td>\n",
       "      <td>173.0</td>\n",
       "    </tr>\n",
       "    <tr>\n",
       "      <th>6</th>\n",
       "      <td>61-70</td>\n",
       "      <td>26.0</td>\n",
       "      <td>89.0</td>\n",
       "      <td>263.0</td>\n",
       "      <td>509.0</td>\n",
       "      <td>562.0</td>\n",
       "      <td>448.0</td>\n",
       "      <td>325.0</td>\n",
       "      <td>378.0</td>\n",
       "      <td>115.0</td>\n",
       "      <td>29.0</td>\n",
       "    </tr>\n",
       "    <tr>\n",
       "      <th>7</th>\n",
       "      <td>71-80</td>\n",
       "      <td>153.0</td>\n",
       "      <td>350.0</td>\n",
       "      <td>1026.0</td>\n",
       "      <td>1807.0</td>\n",
       "      <td>2146.0</td>\n",
       "      <td>1710.0</td>\n",
       "      <td>1230.0</td>\n",
       "      <td>1367.0</td>\n",
       "      <td>402.0</td>\n",
       "      <td>63.0</td>\n",
       "    </tr>\n",
       "    <tr>\n",
       "      <th>8</th>\n",
       "      <td>81-90</td>\n",
       "      <td>84.0</td>\n",
       "      <td>223.0</td>\n",
       "      <td>546.0</td>\n",
       "      <td>801.0</td>\n",
       "      <td>885.0</td>\n",
       "      <td>784.0</td>\n",
       "      <td>600.0</td>\n",
       "      <td>670.0</td>\n",
       "      <td>216.0</td>\n",
       "      <td>29.0</td>\n",
       "    </tr>\n",
       "    <tr>\n",
       "      <th>9</th>\n",
       "      <td>91-100</td>\n",
       "      <td>35.0</td>\n",
       "      <td>71.0</td>\n",
       "      <td>231.0</td>\n",
       "      <td>484.0</td>\n",
       "      <td>578.0</td>\n",
       "      <td>499.0</td>\n",
       "      <td>330.0</td>\n",
       "      <td>386.0</td>\n",
       "      <td>132.0</td>\n",
       "      <td>19.0</td>\n",
       "    </tr>\n",
       "    <tr>\n",
       "      <th>10</th>\n",
       "      <td>More than 100 Days</td>\n",
       "      <td>110.0</td>\n",
       "      <td>208.0</td>\n",
       "      <td>541.0</td>\n",
       "      <td>978.0</td>\n",
       "      <td>1307.0</td>\n",
       "      <td>1199.0</td>\n",
       "      <td>889.0</td>\n",
       "      <td>1062.0</td>\n",
       "      <td>326.0</td>\n",
       "      <td>63.0</td>\n",
       "    </tr>\n",
       "  </tbody>\n",
       "</table>\n",
       "</div>"
      ],
      "text/plain": [
       "                  Stay  Age_0-10  Age_11-20  Age_21-30  Age_31-40  Age_41-50  \\\n",
       "0                 0-10     615.0     1552.0     3467.0     4916.0     4727.0   \n",
       "1                11-20    1959.0     5343.0    11272.0    15792.0    14959.0   \n",
       "2                21-30    1489.0     4312.0    11394.0    18550.0    17906.0   \n",
       "3                31-40    1014.0     2681.0     6912.0    10912.0    10983.0   \n",
       "4                41-50     187.0      510.0     1398.0     2373.0     2507.0   \n",
       "5                51-60     582.0     1429.0     3793.0     6517.0     7189.0   \n",
       "6                61-70      26.0       89.0      263.0      509.0      562.0   \n",
       "7                71-80     153.0      350.0     1026.0     1807.0     2146.0   \n",
       "8                81-90      84.0      223.0      546.0      801.0      885.0   \n",
       "9               91-100      35.0       71.0      231.0      484.0      578.0   \n",
       "10  More than 100 Days     110.0      208.0      541.0      978.0     1307.0   \n",
       "\n",
       "    Age_51-60  Age_61-70  Age_71-80  Age_81-90  Age_91-100  \n",
       "0      3427.0     2194.0     2201.0      422.0        83.0  \n",
       "1     11346.0     7870.0     7958.0     1392.0       248.0  \n",
       "2     13058.0     9033.0     9534.0     1920.0       295.0  \n",
       "3      8569.0     5930.0     6420.0     1504.0       234.0  \n",
       "4      1735.0     1205.0     1383.0      379.0        66.0  \n",
       "5      5739.0     4081.0     4433.0     1082.0       173.0  \n",
       "6       448.0      325.0      378.0      115.0        29.0  \n",
       "7      1710.0     1230.0     1367.0      402.0        63.0  \n",
       "8       784.0      600.0      670.0      216.0        29.0  \n",
       "9       499.0      330.0      386.0      132.0        19.0  \n",
       "10     1199.0      889.0     1062.0      326.0        63.0  "
      ]
     },
     "execution_count": 6,
     "metadata": {},
     "output_type": "execute_result"
    }
   ],
   "source": [
    "# For each Stay Category, trying to look for the AGE distribution\n",
    "stay_age_distribution = pd.get_dummies(train_dataset.loc[:,['Stay','Age']], columns=['Age']).groupby('Stay', as_index=False).sum()\n",
    "stay_age_distribution"
   ]
  },
  {
   "cell_type": "markdown",
   "id": "8f8fffcc",
   "metadata": {
    "papermill": {
     "duration": 0.020392,
     "end_time": "2022-02-26T14:10:29.172030",
     "exception": false,
     "start_time": "2022-02-26T14:10:29.151638",
     "status": "completed"
    },
    "tags": []
   },
   "source": []
  },
  {
   "cell_type": "code",
   "execution_count": 7,
   "id": "19dd8ad6",
   "metadata": {
    "execution": {
     "iopub.execute_input": "2022-02-26T14:10:29.217280Z",
     "iopub.status.busy": "2022-02-26T14:10:29.216761Z",
     "iopub.status.idle": "2022-02-26T14:10:29.218619Z",
     "shell.execute_reply": "2022-02-26T14:10:29.219090Z",
     "shell.execute_reply.started": "2022-02-26T13:00:35.436892Z"
    },
    "papermill": {
     "duration": 0.026685,
     "end_time": "2022-02-26T14:10:29.219232",
     "exception": false,
     "start_time": "2022-02-26T14:10:29.192547",
     "status": "completed"
    },
    "tags": []
   },
   "outputs": [
    {
     "name": "stdout",
     "output_type": "stream",
     "text": [
      "['Age_0-10', 'Age_11-20', 'Age_21-30', 'Age_31-40', 'Age_41-50', 'Age_51-60', 'Age_61-70', 'Age_71-80', 'Age_81-90', 'Age_91-100']\n"
     ]
    }
   ],
   "source": [
    "now = stay_age_distribution.columns.tolist()\n",
    "now.remove('Stay')\n",
    "print(now)"
   ]
  },
  {
   "cell_type": "code",
   "execution_count": 8,
   "id": "ef817b7a",
   "metadata": {
    "execution": {
     "iopub.execute_input": "2022-02-26T14:10:29.263069Z",
     "iopub.status.busy": "2022-02-26T14:10:29.262572Z",
     "iopub.status.idle": "2022-02-26T14:10:31.086860Z",
     "shell.execute_reply": "2022-02-26T14:10:31.087312Z",
     "shell.execute_reply.started": "2022-02-26T13:00:35.442497Z"
    },
    "papermill": {
     "duration": 1.847188,
     "end_time": "2022-02-26T14:10:31.087458",
     "exception": false,
     "start_time": "2022-02-26T14:10:29.240270",
     "status": "completed"
    },
    "tags": []
   },
   "outputs": [
    {
     "data": {
      "image/png": "[encoded data removed]",
      "text/plain": [
       "<Figure size 1080x1440 with 10 Axes>"
      ]
     },
     "metadata": {
      "needs_background": "light"
     },
     "output_type": "display_data"
    }
   ],
   "source": [
    "plt.figure(figsize=(15,20))\n",
    "plt.suptitle(\"Subplots for all the Age Group wise comparison!\", fontsize=40)\n",
    "x = 1\n",
    "for age in now:\n",
    "    ax = plt.subplot(int(len(now)//2),2,x)\n",
    "    ax = plt.subplots_adjust(wspace=0.5,hspace=0.4)\n",
    "    sns.barplot(y = 'Stay',x = age,data = stay_age_distribution,ax = ax)\n",
    "    plt.title(f'Stay distri for Age Group -> {age}')\n",
    "    x +=1"
   ]
  },
  {
   "cell_type": "markdown",
   "id": "2129bece",
   "metadata": {
    "papermill": {
     "duration": 0.023662,
     "end_time": "2022-02-26T14:10:31.137570",
     "exception": false,
     "start_time": "2022-02-26T14:10:31.113908",
     "status": "completed"
    },
    "tags": []
   },
   "source": [
    "So, we can see that the Stay duration of **21-30** days, is highly prominent, which makes it very much curious to me as of what health-problems do generally people come in with that it takes more than 3 weeks to get resolved.\n",
    "\n",
    "As far as Age pattern is concerend, now let's focus on two Stay - durations:\n",
    "1. 21-30 days\n",
    "2. 51-60 days.\n",
    "\n",
    "##### Why these two, you may ask ⁉⁉\n",
    "- Well, obvious with the first duration, where as for the second one, want to se wether the same inferences apply for a 2 Months period of time!?"
   ]
  },
  {
   "cell_type": "code",
   "execution_count": 9,
   "id": "12baeb04",
   "metadata": {
    "execution": {
     "iopub.execute_input": "2022-02-26T14:10:31.205929Z",
     "iopub.status.busy": "2022-02-26T14:10:31.187394Z",
     "iopub.status.idle": "2022-02-26T14:10:31.538080Z",
     "shell.execute_reply": "2022-02-26T14:10:31.539079Z",
     "shell.execute_reply.started": "2022-02-26T13:12:30.062233Z"
    },
    "papermill": {
     "duration": 0.377632,
     "end_time": "2022-02-26T14:10:31.539332",
     "exception": false,
     "start_time": "2022-02-26T14:10:31.161700",
     "status": "completed"
    },
    "tags": []
   },
   "outputs": [
    {
     "data": {
      "image/png": "[encoded data removed]",
      "text/plain": [
       "<Figure size 360x360 with 1 Axes>"
      ]
     },
     "metadata": {},
     "output_type": "display_data"
    },
    {
     "data": {
      "image/png": "[encoded data removed]",
      "text/plain": [
       "<Figure size 360x360 with 1 Axes>"
      ]
     },
     "metadata": {},
     "output_type": "display_data"
    }
   ],
   "source": [
    "stay_durations = ['21-30','51-60']\n",
    "stay_specific_data = stay_age_distribution[stay_age_distribution.Stay.isin(stay_durations)].reset_index(drop=True).iloc[:,1:]\n",
    "for ind in stay_specific_data.index:\n",
    "    fig, ax = plt.subplots(1,1)\n",
    "    fig.set_size_inches(5,5)\n",
    "    # print(stay_specific_data.iloc[ind])\n",
    "    stay_specific_data.iloc[ind].plot(kind='pie', ax=ax, autopct='%1.1f%%')\n",
    "    ax.set_ylabel('')\n",
    "    ax.set_xlabel('')"
   ]
  },
  {
   "cell_type": "markdown",
   "id": "1df55944",
   "metadata": {
    "execution": {
     "iopub.execute_input": "2022-02-26T13:02:36.809395Z",
     "iopub.status.busy": "2022-02-26T13:02:36.809016Z",
     "iopub.status.idle": "2022-02-26T13:02:36.826487Z",
     "shell.execute_reply": "2022-02-26T13:02:36.825686Z",
     "shell.execute_reply.started": "2022-02-26T13:02:36.809367Z"
    },
    "papermill": {
     "duration": 0.031831,
     "end_time": "2022-02-26T14:10:31.621174",
     "exception": false,
     "start_time": "2022-02-26T14:10:31.589343",
     "status": "completed"
    },
    "tags": []
   },
   "source": [
    "So, the first pie-chart is the distribution for **21-30** days, and succeeding one is for **51-60** days.\n",
    "- The two Age Slots heavily dominating are:\n",
    "    - Age 31-40\n",
    "    - Age 41-50\n",
    "    \n",
    "    I believe, these 20 years are the phase where we move into our adulthood and all the posion we consumed till 30's startes to kick-in.\n",
    "    Poison:\n",
    "        - Toxic breathing\n",
    "        - Liqour/Smoking🚬\n",
    "        - Junk/un-healthy food🍜/🍕\n",
    "        \n",
    "Now, for these two agre groups and Stay of days respectively, let's find out the type of Department they are treated in!"
   ]
  },
  {
   "cell_type": "code",
   "execution_count": 10,
   "id": "69eebd64",
   "metadata": {
    "execution": {
     "iopub.execute_input": "2022-02-26T14:10:31.676025Z",
     "iopub.status.busy": "2022-02-26T14:10:31.675529Z",
     "iopub.status.idle": "2022-02-26T14:10:31.791609Z",
     "shell.execute_reply": "2022-02-26T14:10:31.791120Z",
     "shell.execute_reply.started": "2022-02-26T13:45:24.389665Z"
    },
    "papermill": {
     "duration": 0.144207,
     "end_time": "2022-02-26T14:10:31.791731",
     "exception": false,
     "start_time": "2022-02-26T14:10:31.647524",
     "status": "completed"
    },
    "tags": []
   },
   "outputs": [
    {
     "data": {
      "text/html": [
       "<div>\n",
       "<style scoped>\n",
       "    .dataframe tbody tr th:only-of-type {\n",
       "        vertical-align: middle;\n",
       "    }\n",
       "\n",
       "    .dataframe tbody tr th {\n",
       "        vertical-align: top;\n",
       "    }\n",
       "\n",
       "    .dataframe thead th {\n",
       "        text-align: right;\n",
       "    }\n",
       "</style>\n",
       "<table border=\"1\" class=\"dataframe\">\n",
       "  <thead>\n",
       "    <tr style=\"text-align: right;\">\n",
       "      <th></th>\n",
       "      <th></th>\n",
       "      <th>Age</th>\n",
       "      <th>Department</th>\n",
       "    </tr>\n",
       "    <tr>\n",
       "      <th>Stay</th>\n",
       "      <th>Department</th>\n",
       "      <th></th>\n",
       "      <th></th>\n",
       "    </tr>\n",
       "  </thead>\n",
       "  <tbody>\n",
       "    <tr>\n",
       "      <th rowspan=\"5\" valign=\"top\">0-10</th>\n",
       "      <th>TB &amp; Chest disease</th>\n",
       "      <td>0-10</td>\n",
       "      <td>35</td>\n",
       "    </tr>\n",
       "    <tr>\n",
       "      <th>anesthesia</th>\n",
       "      <td>0-10</td>\n",
       "      <td>41</td>\n",
       "    </tr>\n",
       "    <tr>\n",
       "      <th>gynecology</th>\n",
       "      <td>0-10</td>\n",
       "      <td>449</td>\n",
       "    </tr>\n",
       "    <tr>\n",
       "      <th>radiotherapy</th>\n",
       "      <td>0-10</td>\n",
       "      <td>80</td>\n",
       "    </tr>\n",
       "    <tr>\n",
       "      <th>surgery</th>\n",
       "      <td>0-10</td>\n",
       "      <td>10</td>\n",
       "    </tr>\n",
       "    <tr>\n",
       "      <th>...</th>\n",
       "      <th>...</th>\n",
       "      <td>...</td>\n",
       "      <td>...</td>\n",
       "    </tr>\n",
       "    <tr>\n",
       "      <th rowspan=\"5\" valign=\"top\">More than 100 Days</th>\n",
       "      <th>radiotherapy</th>\n",
       "      <td>81-90</td>\n",
       "      <td>55</td>\n",
       "    </tr>\n",
       "    <tr>\n",
       "      <th>TB &amp; Chest disease</th>\n",
       "      <td>91-100</td>\n",
       "      <td>1</td>\n",
       "    </tr>\n",
       "    <tr>\n",
       "      <th>anesthesia</th>\n",
       "      <td>91-100</td>\n",
       "      <td>3</td>\n",
       "    </tr>\n",
       "    <tr>\n",
       "      <th>gynecology</th>\n",
       "      <td>91-100</td>\n",
       "      <td>48</td>\n",
       "    </tr>\n",
       "    <tr>\n",
       "      <th>radiotherapy</th>\n",
       "      <td>91-100</td>\n",
       "      <td>11</td>\n",
       "    </tr>\n",
       "  </tbody>\n",
       "</table>\n",
       "<p>529 rows × 2 columns</p>\n",
       "</div>"
      ],
      "text/plain": [
       "                                          Age  Department\n",
       "Stay               Department                            \n",
       "0-10               TB & Chest disease    0-10          35\n",
       "                   anesthesia            0-10          41\n",
       "                   gynecology            0-10         449\n",
       "                   radiotherapy          0-10          80\n",
       "                   surgery               0-10          10\n",
       "...                                       ...         ...\n",
       "More than 100 Days radiotherapy         81-90          55\n",
       "                   TB & Chest disease  91-100           1\n",
       "                   anesthesia          91-100           3\n",
       "                   gynecology          91-100          48\n",
       "                   radiotherapy        91-100          11\n",
       "\n",
       "[529 rows x 2 columns]"
      ]
     },
     "execution_count": 10,
     "metadata": {},
     "output_type": "execute_result"
    }
   ],
   "source": [
    "dep_stay_age_distri = train_dataset.groupby(by = ['Stay','Age','Department'])['Department'].count().reset_index(level = 1)\n",
    "dep_stay_age_distri"
   ]
  },
  {
   "cell_type": "code",
   "execution_count": 11,
   "id": "2c86eee8",
   "metadata": {
    "execution": {
     "iopub.execute_input": "2022-02-26T14:10:31.852284Z",
     "iopub.status.busy": "2022-02-26T14:10:31.851729Z",
     "iopub.status.idle": "2022-02-26T14:10:31.856724Z",
     "shell.execute_reply": "2022-02-26T14:10:31.856324Z",
     "shell.execute_reply.started": "2022-02-26T13:47:36.452618Z"
    },
    "papermill": {
     "duration": 0.03809,
     "end_time": "2022-02-26T14:10:31.856864",
     "exception": false,
     "start_time": "2022-02-26T14:10:31.818774",
     "status": "completed"
    },
    "tags": []
   },
   "outputs": [],
   "source": [
    "dur_21_30 = dep_stay_age_distri[dep_stay_age_distri.index.get_level_values('Stay').isin([stay_durations[0]])].rename(columns = {'Department':'Count of patients'}).reset_index(level=1)\n",
    "dur_51_60 = dep_stay_age_distri[dep_stay_age_distri.index.get_level_values('Stay').isin([stay_durations[1]])].rename(columns = {'Department':'Count of patients'}).reset_index(level=1)"
   ]
  },
  {
   "cell_type": "code",
   "execution_count": 12,
   "id": "ea56fc2c",
   "metadata": {
    "execution": {
     "iopub.execute_input": "2022-02-26T14:10:31.918396Z",
     "iopub.status.busy": "2022-02-26T14:10:31.917904Z",
     "iopub.status.idle": "2022-02-26T14:10:31.921512Z",
     "shell.execute_reply": "2022-02-26T14:10:31.921087Z",
     "shell.execute_reply.started": "2022-02-26T13:47:45.276112Z"
    },
    "papermill": {
     "duration": 0.037414,
     "end_time": "2022-02-26T14:10:31.921622",
     "exception": false,
     "start_time": "2022-02-26T14:10:31.884208",
     "status": "completed"
    },
    "tags": []
   },
   "outputs": [
    {
     "data": {
      "text/html": [
       "<div>\n",
       "<style scoped>\n",
       "    .dataframe tbody tr th:only-of-type {\n",
       "        vertical-align: middle;\n",
       "    }\n",
       "\n",
       "    .dataframe tbody tr th {\n",
       "        vertical-align: top;\n",
       "    }\n",
       "\n",
       "    .dataframe thead th {\n",
       "        text-align: right;\n",
       "    }\n",
       "</style>\n",
       "<table border=\"1\" class=\"dataframe\">\n",
       "  <thead>\n",
       "    <tr style=\"text-align: right;\">\n",
       "      <th></th>\n",
       "      <th>Department</th>\n",
       "      <th>Age</th>\n",
       "      <th>Count of patients</th>\n",
       "    </tr>\n",
       "    <tr>\n",
       "      <th>Stay</th>\n",
       "      <th></th>\n",
       "      <th></th>\n",
       "      <th></th>\n",
       "    </tr>\n",
       "  </thead>\n",
       "  <tbody>\n",
       "    <tr>\n",
       "      <th>21-30</th>\n",
       "      <td>TB &amp; Chest disease</td>\n",
       "      <td>0-10</td>\n",
       "      <td>100</td>\n",
       "    </tr>\n",
       "    <tr>\n",
       "      <th>21-30</th>\n",
       "      <td>anesthesia</td>\n",
       "      <td>0-10</td>\n",
       "      <td>119</td>\n",
       "    </tr>\n",
       "    <tr>\n",
       "      <th>21-30</th>\n",
       "      <td>gynecology</td>\n",
       "      <td>0-10</td>\n",
       "      <td>1021</td>\n",
       "    </tr>\n",
       "    <tr>\n",
       "      <th>21-30</th>\n",
       "      <td>radiotherapy</td>\n",
       "      <td>0-10</td>\n",
       "      <td>227</td>\n",
       "    </tr>\n",
       "    <tr>\n",
       "      <th>21-30</th>\n",
       "      <td>surgery</td>\n",
       "      <td>0-10</td>\n",
       "      <td>22</td>\n",
       "    </tr>\n",
       "  </tbody>\n",
       "</table>\n",
       "</div>"
      ],
      "text/plain": [
       "               Department   Age  Count of patients\n",
       "Stay                                              \n",
       "21-30  TB & Chest disease  0-10                100\n",
       "21-30          anesthesia  0-10                119\n",
       "21-30          gynecology  0-10               1021\n",
       "21-30        radiotherapy  0-10                227\n",
       "21-30             surgery  0-10                 22"
      ]
     },
     "execution_count": 12,
     "metadata": {},
     "output_type": "execute_result"
    }
   ],
   "source": [
    "dur_21_30.head()"
   ]
  },
  {
   "cell_type": "code",
   "execution_count": 13,
   "id": "081310a4",
   "metadata": {
    "execution": {
     "iopub.execute_input": "2022-02-26T14:10:31.986334Z",
     "iopub.status.busy": "2022-02-26T14:10:31.985840Z",
     "iopub.status.idle": "2022-02-26T14:10:31.989499Z",
     "shell.execute_reply": "2022-02-26T14:10:31.989076Z",
     "shell.execute_reply.started": "2022-02-26T13:47:49.415884Z"
    },
    "papermill": {
     "duration": 0.038676,
     "end_time": "2022-02-26T14:10:31.989634",
     "exception": false,
     "start_time": "2022-02-26T14:10:31.950958",
     "status": "completed"
    },
    "tags": []
   },
   "outputs": [
    {
     "data": {
      "text/html": [
       "<div>\n",
       "<style scoped>\n",
       "    .dataframe tbody tr th:only-of-type {\n",
       "        vertical-align: middle;\n",
       "    }\n",
       "\n",
       "    .dataframe tbody tr th {\n",
       "        vertical-align: top;\n",
       "    }\n",
       "\n",
       "    .dataframe thead th {\n",
       "        text-align: right;\n",
       "    }\n",
       "</style>\n",
       "<table border=\"1\" class=\"dataframe\">\n",
       "  <thead>\n",
       "    <tr style=\"text-align: right;\">\n",
       "      <th></th>\n",
       "      <th>Department</th>\n",
       "      <th>Age</th>\n",
       "      <th>Count of patients</th>\n",
       "    </tr>\n",
       "    <tr>\n",
       "      <th>Stay</th>\n",
       "      <th></th>\n",
       "      <th></th>\n",
       "      <th></th>\n",
       "    </tr>\n",
       "  </thead>\n",
       "  <tbody>\n",
       "    <tr>\n",
       "      <th>51-60</th>\n",
       "      <td>TB &amp; Chest disease</td>\n",
       "      <td>0-10</td>\n",
       "      <td>37</td>\n",
       "    </tr>\n",
       "    <tr>\n",
       "      <th>51-60</th>\n",
       "      <td>anesthesia</td>\n",
       "      <td>0-10</td>\n",
       "      <td>39</td>\n",
       "    </tr>\n",
       "    <tr>\n",
       "      <th>51-60</th>\n",
       "      <td>gynecology</td>\n",
       "      <td>0-10</td>\n",
       "      <td>397</td>\n",
       "    </tr>\n",
       "    <tr>\n",
       "      <th>51-60</th>\n",
       "      <td>radiotherapy</td>\n",
       "      <td>0-10</td>\n",
       "      <td>97</td>\n",
       "    </tr>\n",
       "    <tr>\n",
       "      <th>51-60</th>\n",
       "      <td>surgery</td>\n",
       "      <td>0-10</td>\n",
       "      <td>12</td>\n",
       "    </tr>\n",
       "  </tbody>\n",
       "</table>\n",
       "</div>"
      ],
      "text/plain": [
       "               Department   Age  Count of patients\n",
       "Stay                                              \n",
       "51-60  TB & Chest disease  0-10                 37\n",
       "51-60          anesthesia  0-10                 39\n",
       "51-60          gynecology  0-10                397\n",
       "51-60        radiotherapy  0-10                 97\n",
       "51-60             surgery  0-10                 12"
      ]
     },
     "execution_count": 13,
     "metadata": {},
     "output_type": "execute_result"
    }
   ],
   "source": [
    "dur_51_60.head()"
   ]
  },
  {
   "cell_type": "markdown",
   "id": "cf868b97",
   "metadata": {
    "papermill": {
     "duration": 0.027251,
     "end_time": "2022-02-26T14:10:32.044301",
     "exception": false,
     "start_time": "2022-02-26T14:10:32.017050",
     "status": "completed"
    },
    "tags": []
   },
   "source": [
    "At this moment, we can see patient count against each age group for each department, let's try to figure out the Total count of patients across departments only, as that is the main goal, right!"
   ]
  },
  {
   "cell_type": "code",
   "execution_count": 14,
   "id": "388734e2",
   "metadata": {
    "execution": {
     "iopub.execute_input": "2022-02-26T14:10:32.106425Z",
     "iopub.status.busy": "2022-02-26T14:10:32.105910Z",
     "iopub.status.idle": "2022-02-26T14:10:32.108099Z",
     "shell.execute_reply": "2022-02-26T14:10:32.108515Z",
     "shell.execute_reply.started": "2022-02-26T13:58:32.486316Z"
    },
    "papermill": {
     "duration": 0.036885,
     "end_time": "2022-02-26T14:10:32.108630",
     "exception": false,
     "start_time": "2022-02-26T14:10:32.071745",
     "status": "completed"
    },
    "tags": []
   },
   "outputs": [
    {
     "data": {
      "text/plain": [
       "Department\n",
       "TB & Chest disease     2618\n",
       "anesthesia             8950\n",
       "gynecology            68383\n",
       "radiotherapy           7263\n",
       "surgery                 277\n",
       "Name: Count of patients, dtype: int64"
      ]
     },
     "execution_count": 14,
     "metadata": {},
     "output_type": "execute_result"
    }
   ],
   "source": [
    "total_21_30 = dur_21_30.groupby('Department')['Count of patients'].sum()\n",
    "total_51_60 = dur_51_60.groupby('Department')['Count of patients'].sum()\n",
    "total_21_30"
   ]
  },
  {
   "cell_type": "code",
   "execution_count": 15,
   "id": "f728c1f8",
   "metadata": {
    "execution": {
     "iopub.execute_input": "2022-02-26T14:10:32.166476Z",
     "iopub.status.busy": "2022-02-26T14:10:32.165979Z",
     "iopub.status.idle": "2022-02-26T14:10:32.453281Z",
     "shell.execute_reply": "2022-02-26T14:10:32.453686Z",
     "shell.execute_reply.started": "2022-02-26T14:01:55.902550Z"
    },
    "papermill": {
     "duration": 0.317539,
     "end_time": "2022-02-26T14:10:32.453844",
     "exception": false,
     "start_time": "2022-02-26T14:10:32.136305",
     "status": "completed"
    },
    "tags": []
   },
   "outputs": [
    {
     "data": {
      "image/png": "[encoded data removed]",
      "text/plain": [
       "<Figure size 1080x360 with 2 Axes>"
      ]
     },
     "metadata": {
      "needs_background": "light"
     },
     "output_type": "display_data"
    }
   ],
   "source": [
    "plt.figure(figsize = (15,5))\n",
    "plt.subplot(1,2,1)\n",
    "plt.subplots_adjust(wspace=0.4,hspace=0.3)\n",
    "total_21_30.plot(kind = 'barh');\n",
    "plt.title('Department dominating under 21-30 days stay!');\n",
    "plt.subplot(1,2,2)\n",
    "total_51_60.plot(kind = 'barh');\n",
    "plt.title('Department dominating under 51-60 days stay!');"
   ]
  },
  {
   "cell_type": "markdown",
   "id": "18159120",
   "metadata": {
    "papermill": {
     "duration": 0.028973,
     "end_time": "2022-02-26T14:10:32.512108",
     "exception": false,
     "start_time": "2022-02-26T14:10:32.483135",
     "status": "completed"
    },
    "tags": []
   },
   "source": [
    "**`Gynecology department leads all the way!`.**  \n",
    "Hmm, now this is making me think, <u>precisely what kind of issues under this category occurs, which may extend 30 days stay to 60 days stay!🤔</u>\n",
    "- Let me know some technical pointers on this in the comment section!!  \n",
    "\n",
    "Now, moving onto the **Hospital Code** which sees longer stays. Well, i have thought of using only the above two durations are primary comparison analysis for this.\n",
    "So, the question becomes now that which Hospital Codes sees highest demands for:\n",
    "1. 21-30 days stay\n",
    "2. 51-60 days stay\n",
    "\n",
    "- I am hoping the Codes to be turning out same, coz this will reflect that the ***Hospital capable of handling 30 days stay, is indeed capable of Handling 60 days stay also!***, i might be wrong, let's find out!"
   ]
  },
  {
   "cell_type": "code",
   "execution_count": null,
   "id": "e745aaa0",
   "metadata": {
    "papermill": {
     "duration": 0.028769,
     "end_time": "2022-02-26T14:10:32.570348",
     "exception": false,
     "start_time": "2022-02-26T14:10:32.541579",
     "status": "completed"
    },
    "tags": []
   },
   "outputs": [],
   "source": []
  }
 ],
 "metadata": {
  "kernelspec": {
   "display_name": "Python 3",
   "language": "python",
   "name": "python3"
  },
  "language_info": {
   "codemirror_mode": {
    "name": "ipython",
    "version": 3
   },
   "file_extension": ".py",
   "mimetype": "text/x-python",
   "name": "python",
   "nbconvert_exporter": "python",
   "pygments_lexer": "ipython3",
   "version": "3.7.12"
  },
  "papermill": {
   "default_parameters": {},
   "duration": 14.686419,
   "end_time": "2022-02-26T14:10:33.106660",
   "environment_variables": {},
   "exception": null,
   "input_path": "__notebook__.ipynb",
   "output_path": "__notebook__.ipynb",
   "parameters": {},
   "start_time": "2022-02-26T14:10:18.420241",
   "version": "2.3.3"
  }
 },
 "nbformat": 4,
 "nbformat_minor": 5
}
